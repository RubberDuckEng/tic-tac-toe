{
 "cells": [
  {
   "cell_type": "code",
   "execution_count": 1,
   "id": "dda44117-b4d6-494b-958d-a2f17a9cafd0",
   "metadata": {},
   "outputs": [],
   "source": [
    "import torch\n",
    "from torch import nn"
   ]
  },
  {
   "cell_type": "code",
   "execution_count": 2,
   "id": "d50827e9-539f-4963-a32e-d7276db4d755",
   "metadata": {},
   "outputs": [],
   "source": [
    "def create_board():\n",
    "    us = torch.zeros(3, 3)\n",
    "    them = torch.zeros(3, 3)\n",
    "    return torch.stack([us, them])\n",
    "\n",
    "def get_move_coords(move_index):\n",
    "    return move_index % 3, move_index // 3\n",
    "\n",
    "def is_valid_move(state, move_index):\n",
    "    if move_index < 0 or move_index >= 9:\n",
    "        return False\n",
    "    x, y = get_move_coords(move_index)\n",
    "    return torch.all(state[:, y, x] == 0).item()\n",
    "\n",
    "def make_move(state, move_index):\n",
    "    assert(is_valid_move(state, move_index))\n",
    "    x, y = get_move_coords(move_index)\n",
    "    us, them = state.unbind()\n",
    "    us = us.clone()\n",
    "    us[y, x] = 1\n",
    "    return torch.stack([them, us])\n",
    "\n",
    "def has_won(ply):\n",
    "    for x in range(3):\n",
    "        if torch.sum(ply[:, x]) == 3:\n",
    "            return True\n",
    "    for y in range(3):\n",
    "        if torch.sum(ply[y, :]) == 3:\n",
    "            return True\n",
    "    if sum([ply[i, i].item() for i in range(3)]) == 3:\n",
    "        return True\n",
    "    if sum([ply[2 - i, i].item() for i in range(3)]) == 3:\n",
    "        return True\n",
    "    return False\n",
    "\n",
    "def get_score(state):\n",
    "    us, them = state.unbind()\n",
    "    if has_won(us):\n",
    "        return 1 \n",
    "    if has_won(them):\n",
    "        return -1\n",
    "    return 0\n",
    "\n",
    "def is_complete(state):\n",
    "    if torch.sum(state, (-3, -2, -1)) == 9:\n",
    "        return True\n",
    "    return get_score(state) != 0"
   ]
  },
  {
   "cell_type": "code",
   "execution_count": 3,
   "id": "f8cc9ded-f022-4464-88c1-4cb79ad37b6b",
   "metadata": {},
   "outputs": [],
   "source": [
    "state = create_board()"
   ]
  },
  {
   "cell_type": "code",
   "execution_count": 4,
   "id": "c7d5d5d6-d18c-4c5c-8f8e-5770fa23ce04",
   "metadata": {},
   "outputs": [
    {
     "data": {
      "text/plain": [
       "True"
      ]
     },
     "execution_count": 4,
     "metadata": {},
     "output_type": "execute_result"
    }
   ],
   "source": [
    "is_valid_move(state, 6)"
   ]
  },
  {
   "cell_type": "code",
   "execution_count": 5,
   "id": "29632ef8-db4e-42ea-bcc4-d1dec6e14cce",
   "metadata": {},
   "outputs": [],
   "source": [
    "state = make_move(state, 4)"
   ]
  },
  {
   "cell_type": "code",
   "execution_count": 6,
   "id": "4382088e-7756-40b6-8812-6185aedd8b97",
   "metadata": {},
   "outputs": [
    {
     "data": {
      "text/plain": [
       "tensor([[[0., 0., 0.],\n",
       "         [0., 0., 0.],\n",
       "         [0., 0., 0.]],\n",
       "\n",
       "        [[0., 0., 0.],\n",
       "         [0., 1., 0.],\n",
       "         [0., 0., 0.]]])"
      ]
     },
     "execution_count": 6,
     "metadata": {},
     "output_type": "execute_result"
    }
   ],
   "source": [
    "state"
   ]
  },
  {
   "cell_type": "code",
   "execution_count": 7,
   "id": "ec6386cd-bf11-404d-bb71-c3102892b8c2",
   "metadata": {},
   "outputs": [
    {
     "data": {
      "text/plain": [
       "0"
      ]
     },
     "execution_count": 7,
     "metadata": {},
     "output_type": "execute_result"
    }
   ],
   "source": [
    "get_score(state)"
   ]
  },
  {
   "cell_type": "code",
   "execution_count": 8,
   "id": "6345c675-e74a-45cf-a7f3-0af5b5c141c7",
   "metadata": {},
   "outputs": [],
   "source": [
    "state = make_move(state, 0)"
   ]
  },
  {
   "cell_type": "code",
   "execution_count": 9,
   "id": "b0aaa985-4413-4c14-a26d-e4262d73fa80",
   "metadata": {},
   "outputs": [],
   "source": [
    "state = make_move(state, 3)"
   ]
  },
  {
   "cell_type": "code",
   "execution_count": 10,
   "id": "32897058-9f09-46b6-833f-868877db7305",
   "metadata": {},
   "outputs": [
    {
     "data": {
      "text/plain": [
       "tensor([[[1., 0., 0.],\n",
       "         [0., 0., 0.],\n",
       "         [0., 0., 0.]],\n",
       "\n",
       "        [[0., 0., 0.],\n",
       "         [1., 1., 0.],\n",
       "         [0., 0., 0.]]])"
      ]
     },
     "execution_count": 10,
     "metadata": {},
     "output_type": "execute_result"
    }
   ],
   "source": [
    "state"
   ]
  },
  {
   "cell_type": "code",
   "execution_count": 11,
   "id": "07fb02a8-6abd-417f-9440-87c969956682",
   "metadata": {},
   "outputs": [],
   "source": [
    "state = make_move(state, 1)"
   ]
  },
  {
   "cell_type": "code",
   "execution_count": 12,
   "id": "ccd4ecb7-7407-4cf9-b987-002d0c2a89db",
   "metadata": {},
   "outputs": [
    {
     "data": {
      "text/plain": [
       "0"
      ]
     },
     "execution_count": 12,
     "metadata": {},
     "output_type": "execute_result"
    }
   ],
   "source": [
    "get_score(state)"
   ]
  },
  {
   "cell_type": "code",
   "execution_count": 13,
   "id": "5d705bde-0317-40aa-b8a8-8c92ba681818",
   "metadata": {},
   "outputs": [],
   "source": [
    "state = make_move(state, 5)"
   ]
  },
  {
   "cell_type": "code",
   "execution_count": 14,
   "id": "38dc8c61-3c5d-485f-a9d5-7f723d2bb5ee",
   "metadata": {},
   "outputs": [
    {
     "data": {
      "text/plain": [
       "-1"
      ]
     },
     "execution_count": 14,
     "metadata": {},
     "output_type": "execute_result"
    }
   ],
   "source": [
    "get_score(state)"
   ]
  },
  {
   "cell_type": "code",
   "execution_count": 15,
   "id": "4136ec82-c084-4197-9e8b-bcc3270c6a4e",
   "metadata": {},
   "outputs": [
    {
     "data": {
      "text/plain": [
       "tensor([[[1., 1., 0.],\n",
       "         [0., 0., 0.],\n",
       "         [0., 0., 0.]],\n",
       "\n",
       "        [[0., 0., 0.],\n",
       "         [1., 1., 1.],\n",
       "         [0., 0., 0.]]])"
      ]
     },
     "execution_count": 15,
     "metadata": {},
     "output_type": "execute_result"
    }
   ],
   "source": [
    "state"
   ]
  },
  {
   "cell_type": "code",
   "execution_count": 16,
   "id": "9917b01f-de92-438b-a147-dc913114f5f2",
   "metadata": {},
   "outputs": [
    {
     "data": {
      "text/plain": [
       "True"
      ]
     },
     "execution_count": 16,
     "metadata": {},
     "output_type": "execute_result"
    }
   ],
   "source": [
    "is_complete(state)"
   ]
  },
  {
   "cell_type": "code",
   "execution_count": null,
   "id": "3cc000c3-0846-410c-854c-6d2a59f98fdb",
   "metadata": {},
   "outputs": [],
   "source": []
  }
 ],
 "metadata": {
  "kernelspec": {
   "display_name": "azureml_py38_PT_and_TF",
   "language": "python",
   "name": "conda-env-azureml_py38_PT_and_TF-py"
  },
  "language_info": {
   "codemirror_mode": {
    "name": "ipython",
    "version": 3
   },
   "file_extension": ".py",
   "mimetype": "text/x-python",
   "name": "python",
   "nbconvert_exporter": "python",
   "pygments_lexer": "ipython3",
   "version": "3.8.5"
  }
 },
 "nbformat": 4,
 "nbformat_minor": 5
}
