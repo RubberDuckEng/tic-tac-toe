{
 "cells": [
  {
   "cell_type": "code",
   "execution_count": 1,
   "id": "dda44117-b4d6-494b-958d-a2f17a9cafd0",
   "metadata": {},
   "outputs": [],
   "source": [
    "import torch\n",
    "from torch import nn"
   ]
  },
  {
   "cell_type": "code",
   "execution_count": 2,
   "id": "0279f7c3-6f90-4d37-bd36-2c878517936d",
   "metadata": {},
   "outputs": [],
   "source": [
    "def create_board():\n",
    "    us = torch.zeros(3, 3)\n",
    "    them = torch.zeros(3, 3)\n",
    "    return torch.stack([us, them])"
   ]
  },
  {
   "cell_type": "code",
   "execution_count": 3,
   "id": "2ca0d300-5a46-42cd-abd7-050cb4ad3fb8",
   "metadata": {},
   "outputs": [],
   "source": [
    "state = create_board()"
   ]
  },
  {
   "cell_type": "code",
   "execution_count": 4,
   "id": "bb64a3f2-eb5e-4dff-b6da-02723bc0d4b5",
   "metadata": {},
   "outputs": [
    {
     "data": {
      "text/plain": [
       "tensor([[[0., 0., 0.],\n",
       "         [0., 0., 0.],\n",
       "         [0., 0., 0.]],\n",
       "\n",
       "        [[0., 0., 0.],\n",
       "         [0., 0., 0.],\n",
       "         [0., 0., 0.]]])"
      ]
     },
     "execution_count": 4,
     "metadata": {},
     "output_type": "execute_result"
    }
   ],
   "source": [
    "state"
   ]
  },
  {
   "cell_type": "code",
   "execution_count": 5,
   "id": "5ed721ab-d4ec-4ec1-ba9e-be9b2bc6bada",
   "metadata": {},
   "outputs": [],
   "source": [
    "def get_move_coords(move_index):\n",
    "    return move_index % 3, move_index // 3\n",
    "\n",
    "def is_valid_move(state, move_index):\n",
    "    if move_index < 0 or move_index >= 9:\n",
    "        return False\n",
    "    x, y = get_move_coords(move_index)\n",
    "    return torch.all(state[:, x, y] == 0).item()"
   ]
  },
  {
   "cell_type": "code",
   "execution_count": 6,
   "id": "c7d5d5d6-d18c-4c5c-8f8e-5770fa23ce04",
   "metadata": {},
   "outputs": [
    {
     "data": {
      "text/plain": [
       "True"
      ]
     },
     "execution_count": 6,
     "metadata": {},
     "output_type": "execute_result"
    }
   ],
   "source": [
    "is_valid_move(state, 6)"
   ]
  },
  {
   "cell_type": "code",
   "execution_count": 9,
   "id": "448d8503-8c23-44a4-bef3-a6f199a78b3e",
   "metadata": {},
   "outputs": [],
   "source": [
    "def make_move(state, move_index):\n",
    "    assert(is_valid_move(state, move_index))\n",
    "    x, y = get_move_coords(move_index)\n",
    "    us, them = state.unbind()\n",
    "    us = us.clone()\n",
    "    us[x, y] = 1\n",
    "    return torch.stack([them, us])"
   ]
  },
  {
   "cell_type": "code",
   "execution_count": 10,
   "id": "29632ef8-db4e-42ea-bcc4-d1dec6e14cce",
   "metadata": {},
   "outputs": [],
   "source": [
    "next_state = make_move(state, 4)"
   ]
  },
  {
   "cell_type": "code",
   "execution_count": 11,
   "id": "8642ab89-17ea-4736-9eaf-015273b58c4f",
   "metadata": {},
   "outputs": [
    {
     "data": {
      "text/plain": [
       "tensor([[[0., 0., 0.],\n",
       "         [0., 0., 0.],\n",
       "         [0., 0., 0.]],\n",
       "\n",
       "        [[0., 0., 0.],\n",
       "         [0., 1., 0.],\n",
       "         [0., 0., 0.]]])"
      ]
     },
     "execution_count": 11,
     "metadata": {},
     "output_type": "execute_result"
    }
   ],
   "source": [
    "next_state"
   ]
  },
  {
   "cell_type": "code",
   "execution_count": 12,
   "id": "4382088e-7756-40b6-8812-6185aedd8b97",
   "metadata": {},
   "outputs": [
    {
     "data": {
      "text/plain": [
       "tensor([[[0., 0., 0.],\n",
       "         [0., 0., 0.],\n",
       "         [0., 0., 0.]],\n",
       "\n",
       "        [[0., 0., 0.],\n",
       "         [0., 0., 0.],\n",
       "         [0., 0., 0.]]])"
      ]
     },
     "execution_count": 12,
     "metadata": {},
     "output_type": "execute_result"
    }
   ],
   "source": [
    "state"
   ]
  },
  {
   "cell_type": "code",
   "execution_count": null,
   "id": "b8ee901f-93c5-4512-a97c-957c6f6ef90c",
   "metadata": {},
   "outputs": [],
   "source": []
  }
 ],
 "metadata": {
  "kernelspec": {
   "display_name": "azureml_py38_PT_and_TF",
   "language": "python",
   "name": "conda-env-azureml_py38_PT_and_TF-py"
  },
  "language_info": {
   "codemirror_mode": {
    "name": "ipython",
    "version": 3
   },
   "file_extension": ".py",
   "mimetype": "text/x-python",
   "name": "python",
   "nbconvert_exporter": "python",
   "pygments_lexer": "ipython3",
   "version": "3.8.5"
  }
 },
 "nbformat": 4,
 "nbformat_minor": 5
}
