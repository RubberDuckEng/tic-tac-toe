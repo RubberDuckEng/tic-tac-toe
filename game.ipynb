{
 "cells": [
  {
   "cell_type": "code",
   "execution_count": 1,
   "id": "dda44117-b4d6-494b-958d-a2f17a9cafd0",
   "metadata": {},
   "outputs": [],
   "source": [
    "from collections import namedtuple, deque\n",
    "import random\n",
    "import torch\n",
    "import math\n",
    "from torch import nn\n",
    "from torch import optim"
   ]
  },
  {
   "cell_type": "code",
   "execution_count": 2,
   "id": "d50827e9-539f-4963-a32e-d7276db4d755",
   "metadata": {},
   "outputs": [],
   "source": [
    "def create_board():\n",
    "    us = torch.zeros(3, 3)\n",
    "    them = torch.zeros(3, 3)\n",
    "    return torch.stack([us, them])\n",
    "\n",
    "def get_move_coords(move_index):\n",
    "    return move_index % 3, move_index // 3\n",
    "\n",
    "def is_valid_move(state, move_index):\n",
    "    if move_index < 0 or move_index >= 9:\n",
    "        return False\n",
    "    x, y = get_move_coords(move_index)\n",
    "    return torch.all(state[:, y, x] == 0).item()\n",
    "\n",
    "def make_move(state, move_index):\n",
    "    assert(is_valid_move(state, move_index))\n",
    "    x, y = get_move_coords(move_index)\n",
    "    us, them = state.unbind()\n",
    "    us = us.clone()\n",
    "    us[y, x] = 1\n",
    "    return torch.stack([them, us])\n",
    "\n",
    "def has_won(ply):\n",
    "    for x in range(3):\n",
    "        if torch.sum(ply[:, x]) == 3:\n",
    "            return True\n",
    "    for y in range(3):\n",
    "        if torch.sum(ply[y, :]) == 3:\n",
    "            return True\n",
    "    if sum([ply[i, i].item() for i in range(3)]) == 3:\n",
    "        return True\n",
    "    if sum([ply[2 - i, i].item() for i in range(3)]) == 3:\n",
    "        return True\n",
    "    return False\n",
    "\n",
    "def get_score(state):\n",
    "    us, them = state.unbind()\n",
    "    if has_won(us):\n",
    "        return 1 \n",
    "    if has_won(them):\n",
    "        return -1\n",
    "    return 0\n",
    "\n",
    "def is_complete(state):\n",
    "    if torch.sum(state, (-3, -2, -1)) == 9:\n",
    "        return True\n",
    "    return get_score(state) != 0"
   ]
  },
  {
   "cell_type": "code",
   "execution_count": 3,
   "id": "f8cc9ded-f022-4464-88c1-4cb79ad37b6b",
   "metadata": {},
   "outputs": [],
   "source": [
    "state = create_board()"
   ]
  },
  {
   "cell_type": "code",
   "execution_count": 4,
   "id": "14231089-a4d7-45d7-9574-2220ecbbb412",
   "metadata": {},
   "outputs": [
    {
     "data": {
      "text/plain": [
       "tensor([[[0., 0., 0.],\n",
       "         [0., 0., 0.],\n",
       "         [0., 0., 0.]],\n",
       "\n",
       "        [[0., 0., 0.],\n",
       "         [0., 0., 0.],\n",
       "         [0., 0., 0.]]])"
      ]
     },
     "execution_count": 4,
     "metadata": {},
     "output_type": "execute_result"
    }
   ],
   "source": [
    "state"
   ]
  },
  {
   "cell_type": "code",
   "execution_count": 5,
   "id": "c7d5d5d6-d18c-4c5c-8f8e-5770fa23ce04",
   "metadata": {},
   "outputs": [
    {
     "data": {
      "text/plain": [
       "True"
      ]
     },
     "execution_count": 5,
     "metadata": {},
     "output_type": "execute_result"
    }
   ],
   "source": [
    "is_valid_move(state, 6)"
   ]
  },
  {
   "cell_type": "code",
   "execution_count": 6,
   "id": "29632ef8-db4e-42ea-bcc4-d1dec6e14cce",
   "metadata": {},
   "outputs": [],
   "source": [
    "state = make_move(state, 6)"
   ]
  },
  {
   "cell_type": "code",
   "execution_count": 7,
   "id": "4382088e-7756-40b6-8812-6185aedd8b97",
   "metadata": {},
   "outputs": [
    {
     "data": {
      "text/plain": [
       "tensor([[[0., 0., 0.],\n",
       "         [0., 0., 0.],\n",
       "         [0., 0., 0.]],\n",
       "\n",
       "        [[0., 0., 0.],\n",
       "         [0., 0., 0.],\n",
       "         [1., 0., 0.]]])"
      ]
     },
     "execution_count": 7,
     "metadata": {},
     "output_type": "execute_result"
    }
   ],
   "source": [
    "state"
   ]
  },
  {
   "cell_type": "code",
   "execution_count": 8,
   "id": "ec6386cd-bf11-404d-bb71-c3102892b8c2",
   "metadata": {},
   "outputs": [
    {
     "data": {
      "text/plain": [
       "0"
      ]
     },
     "execution_count": 8,
     "metadata": {},
     "output_type": "execute_result"
    }
   ],
   "source": [
    "get_score(state)"
   ]
  },
  {
   "cell_type": "code",
   "execution_count": 9,
   "id": "6345c675-e74a-45cf-a7f3-0af5b5c141c7",
   "metadata": {},
   "outputs": [],
   "source": [
    "state = make_move(state, 0)"
   ]
  },
  {
   "cell_type": "code",
   "execution_count": 10,
   "id": "b0aaa985-4413-4c14-a26d-e4262d73fa80",
   "metadata": {},
   "outputs": [],
   "source": [
    "state = make_move(state, 3)"
   ]
  },
  {
   "cell_type": "code",
   "execution_count": 11,
   "id": "32897058-9f09-46b6-833f-868877db7305",
   "metadata": {},
   "outputs": [
    {
     "data": {
      "text/plain": [
       "tensor([[[1., 0., 0.],\n",
       "         [0., 0., 0.],\n",
       "         [0., 0., 0.]],\n",
       "\n",
       "        [[0., 0., 0.],\n",
       "         [1., 0., 0.],\n",
       "         [1., 0., 0.]]])"
      ]
     },
     "execution_count": 11,
     "metadata": {},
     "output_type": "execute_result"
    }
   ],
   "source": [
    "state"
   ]
  },
  {
   "cell_type": "code",
   "execution_count": 12,
   "id": "07fb02a8-6abd-417f-9440-87c969956682",
   "metadata": {},
   "outputs": [],
   "source": [
    "state = make_move(state, 1)"
   ]
  },
  {
   "cell_type": "code",
   "execution_count": 13,
   "id": "ccd4ecb7-7407-4cf9-b987-002d0c2a89db",
   "metadata": {},
   "outputs": [
    {
     "data": {
      "text/plain": [
       "0"
      ]
     },
     "execution_count": 13,
     "metadata": {},
     "output_type": "execute_result"
    }
   ],
   "source": [
    "get_score(state)"
   ]
  },
  {
   "cell_type": "code",
   "execution_count": 14,
   "id": "5d705bde-0317-40aa-b8a8-8c92ba681818",
   "metadata": {},
   "outputs": [],
   "source": [
    "state = make_move(state, 5)"
   ]
  },
  {
   "cell_type": "code",
   "execution_count": 15,
   "id": "38dc8c61-3c5d-485f-a9d5-7f723d2bb5ee",
   "metadata": {},
   "outputs": [
    {
     "data": {
      "text/plain": [
       "0"
      ]
     },
     "execution_count": 15,
     "metadata": {},
     "output_type": "execute_result"
    }
   ],
   "source": [
    "get_score(state)"
   ]
  },
  {
   "cell_type": "code",
   "execution_count": 16,
   "id": "4136ec82-c084-4197-9e8b-bcc3270c6a4e",
   "metadata": {},
   "outputs": [
    {
     "data": {
      "text/plain": [
       "tensor([[[1., 1., 0.],\n",
       "         [0., 0., 0.],\n",
       "         [0., 0., 0.]],\n",
       "\n",
       "        [[0., 0., 0.],\n",
       "         [1., 0., 1.],\n",
       "         [1., 0., 0.]]])"
      ]
     },
     "execution_count": 16,
     "metadata": {},
     "output_type": "execute_result"
    }
   ],
   "source": [
    "state"
   ]
  },
  {
   "cell_type": "code",
   "execution_count": 17,
   "id": "9917b01f-de92-438b-a147-dc913114f5f2",
   "metadata": {},
   "outputs": [
    {
     "data": {
      "text/plain": [
       "False"
      ]
     },
     "execution_count": 17,
     "metadata": {},
     "output_type": "execute_result"
    }
   ],
   "source": [
    "is_complete(state)"
   ]
  },
  {
   "cell_type": "code",
   "execution_count": 18,
   "id": "3cc000c3-0846-410c-854c-6d2a59f98fdb",
   "metadata": {},
   "outputs": [],
   "source": [
    "state = make_move(state, 2)"
   ]
  },
  {
   "cell_type": "code",
   "execution_count": 19,
   "id": "36969dc7-9ca0-4b2d-a59b-3e74c9fb5e4c",
   "metadata": {},
   "outputs": [
    {
     "data": {
      "text/plain": [
       "tensor([[[0., 0., 0.],\n",
       "         [1., 0., 1.],\n",
       "         [1., 0., 0.]],\n",
       "\n",
       "        [[1., 1., 1.],\n",
       "         [0., 0., 0.],\n",
       "         [0., 0., 0.]]])"
      ]
     },
     "execution_count": 19,
     "metadata": {},
     "output_type": "execute_result"
    }
   ],
   "source": [
    "state"
   ]
  },
  {
   "cell_type": "code",
   "execution_count": 20,
   "id": "8ae14eed-f493-4872-ac7f-49ee069da379",
   "metadata": {},
   "outputs": [
    {
     "data": {
      "text/plain": [
       "True"
      ]
     },
     "execution_count": 20,
     "metadata": {},
     "output_type": "execute_result"
    }
   ],
   "source": [
    "is_complete(state)"
   ]
  },
  {
   "cell_type": "code",
   "execution_count": 21,
   "id": "a97d3d9a-fa49-45df-9274-88864e4fd022",
   "metadata": {},
   "outputs": [
    {
     "data": {
      "text/plain": [
       "-1"
      ]
     },
     "execution_count": 21,
     "metadata": {},
     "output_type": "execute_result"
    }
   ],
   "source": [
    "get_score(state)"
   ]
  },
  {
   "cell_type": "markdown",
   "id": "40a848bc-b348-4d28-863f-32605d2e6818",
   "metadata": {},
   "source": [
    "# The Q equation\n",
    "\n",
    "`Q(state, a) => reward`\n",
    "\n",
    "`GAMMA` is a discount factor for future rewards.\n",
    "\n",
    "If `state'` is non-final:\n",
    "\n",
    "`Q(state, a) = reward + GAMMA * max_{a'} Q(state', a')`\n",
    "\n",
    "Otherwise, `state'` is final, which means no more actions are possible:\n",
    "\n",
    "`Q(state, a) = reward`\n",
    "\n",
    "What move should I make?"
   ]
  },
  {
   "cell_type": "code",
   "execution_count": 25,
   "id": "17580f8c-091d-4484-a7bc-a4c021542885",
   "metadata": {},
   "outputs": [],
   "source": [
    "# self.number_of_actions = 2\n",
    "# self.gamma = 0.99\n",
    "# self.final_epsilon = 0.0001\n",
    "# self.initial_epsilon = 0.1\n",
    "# self.number_of_iterations = 2000000\n",
    "# self.replay_memory_size = 10000\n",
    "# self.minibatch_size = 32\n",
    "\n",
    "number_of_actions = 9\n",
    "\n",
    "class NeuralNetwork(nn.Module):\n",
    "    def __init__(self):\n",
    "        super(NeuralNetwork, self).__init__()\n",
    "        self.fc1 = nn.Linear(18, 32)\n",
    "        self.relu1 = nn.ReLU(inplace=True)\n",
    "        self.fc2 = nn.Linear(32, 32)\n",
    "        self.relu2 = nn.ReLU(inplace=True)\n",
    "        self.fc3 = nn.Linear(32, number_of_actions)\n",
    "\n",
    "    def forward(self, x):\n",
    "        out = x.view(x.size()[0], -1)\n",
    "        out = self.fc1(out)\n",
    "        out = self.relu1(out)\n",
    "        out = self.fc2(out)\n",
    "        out = self.relu2(out)\n",
    "        out = self.fc3(out)\n",
    "        return out"
   ]
  },
  {
   "cell_type": "code",
   "execution_count": 26,
   "id": "bc1389da-2c6d-414c-b07c-861e44c2f623",
   "metadata": {},
   "outputs": [],
   "source": [
    "model = NeuralNetwork()"
   ]
  },
  {
   "cell_type": "code",
   "execution_count": 27,
   "id": "1ac0e816-3922-4b1c-8cb1-fa49b56a58f1",
   "metadata": {},
   "outputs": [],
   "source": [
    "minibatch = torch.stack([create_board(), state])"
   ]
  },
  {
   "cell_type": "code",
   "execution_count": 28,
   "id": "54c1f9b0-e13d-477a-ba01-60a98c9fed93",
   "metadata": {},
   "outputs": [
    {
     "data": {
      "text/plain": [
       "tensor([[[[0., 0., 0.],\n",
       "          [0., 0., 0.],\n",
       "          [0., 0., 0.]],\n",
       "\n",
       "         [[0., 0., 0.],\n",
       "          [0., 0., 0.],\n",
       "          [0., 0., 0.]]],\n",
       "\n",
       "\n",
       "        [[[0., 0., 0.],\n",
       "          [1., 0., 1.],\n",
       "          [1., 0., 0.]],\n",
       "\n",
       "         [[1., 1., 1.],\n",
       "          [0., 0., 0.],\n",
       "          [0., 0., 0.]]]])"
      ]
     },
     "execution_count": 28,
     "metadata": {},
     "output_type": "execute_result"
    }
   ],
   "source": [
    "minibatch"
   ]
  },
  {
   "cell_type": "code",
   "execution_count": 29,
   "id": "3a6f3a70-4928-43c2-91a0-78cec4571bcc",
   "metadata": {},
   "outputs": [
    {
     "data": {
      "text/plain": [
       "tensor([[-0.0858, -0.0897,  0.1664,  0.0675, -0.1441, -0.1525,  0.0551, -0.0116,\n",
       "         -0.1083],\n",
       "        [-0.0430, -0.1351,  0.2057,  0.0796, -0.1263, -0.1590, -0.0248, -0.0049,\n",
       "         -0.1217]], grad_fn=<AddmmBackward0>)"
      ]
     },
     "execution_count": 29,
     "metadata": {},
     "output_type": "execute_result"
    }
   ],
   "source": [
    "model.forward(minibatch)"
   ]
  },
  {
   "cell_type": "code",
   "execution_count": 30,
   "id": "88ba035a-b9c6-4daf-8e76-be4b5ebedb55",
   "metadata": {},
   "outputs": [],
   "source": [
    "Transition = namedtuple('Transition',\n",
    "                        ('state', 'action', 'next_state', 'reward'))\n",
    "\n",
    "\n",
    "class ReplayMemory(object):\n",
    "    def __init__(self, capacity):\n",
    "        self.memory = deque([],maxlen=capacity)\n",
    "\n",
    "    def push(self, *args):\n",
    "        \"\"\"Save a transition\"\"\"\n",
    "        self.memory.append(Transition(*args))\n",
    "\n",
    "    def sample(self, batch_size):\n",
    "        return random.sample(self.memory, batch_size)\n",
    "\n",
    "    def __len__(self):\n",
    "        return len(self.memory)\n"
   ]
  },
  {
   "cell_type": "code",
   "execution_count": 31,
   "id": "047a9c75-8201-4080-bdd4-030f5e508e3d",
   "metadata": {},
   "outputs": [],
   "source": [
    "optimizer = optim.RMSprop(model.parameters())\n",
    "memory = ReplayMemory(10000)"
   ]
  },
  {
   "cell_type": "code",
   "execution_count": 32,
   "id": "64e08786-6b76-4983-b465-ddd8902f4857",
   "metadata": {},
   "outputs": [],
   "source": [
    "BATCH_SIZE = 128\n",
    "GAMMA = 0.999\n",
    "EPS_START = 0.9\n",
    "EPS_END = 0.05\n",
    "EPS_DECAY = 200\n",
    "TARGET_UPDATE = 10"
   ]
  },
  {
   "cell_type": "code",
   "execution_count": 85,
   "id": "435d3ea0-7550-487a-b135-da4261ddbf84",
   "metadata": {},
   "outputs": [],
   "source": [
    "steps_done = 0\n",
    "\n",
    "def select_action(state):\n",
    "    global steps_done\n",
    "    sample = random.random()\n",
    "    eps_threshold = EPS_END + (EPS_START - EPS_END) * \\\n",
    "        math.exp(-1. * steps_done / EPS_DECAY)\n",
    "    steps_done += 1\n",
    "    if sample > eps_threshold:\n",
    "        with torch.no_grad():\n",
    "            # t.max(1) will return largest column value of each row.\n",
    "            # second column on max result is index of where max element was\n",
    "            # found, so we pick action with the larger expected reward.\n",
    "            return torch.stack([model(torch.stack([state])).max(1)[1]])\n",
    "    else:\n",
    "        return torch.tensor([[random.randrange(number_of_actions)]], dtype=torch.long)\n"
   ]
  },
  {
   "cell_type": "code",
   "execution_count": 82,
   "id": "9ab5ea9a-77da-4706-89b8-c299d6cb73da",
   "metadata": {},
   "outputs": [
    {
     "data": {
      "text/plain": [
       "tensor([[2]])"
      ]
     },
     "execution_count": 82,
     "metadata": {},
     "output_type": "execute_result"
    }
   ],
   "source": [
    "select_action(state)"
   ]
  },
  {
   "cell_type": "code",
   "execution_count": null,
   "id": "7d15b179-44b8-454c-9627-b55aa8d4b03f",
   "metadata": {},
   "outputs": [],
   "source": []
  },
  {
   "cell_type": "code",
   "execution_count": 86,
   "id": "53a05c5d-d064-4463-ab7b-7f6d7925debd",
   "metadata": {},
   "outputs": [],
   "source": [
    "def optimize_model():\n",
    "    if len(memory) < BATCH_SIZE:\n",
    "        return\n",
    "    transitions = memory.sample(BATCH_SIZE)\n",
    "    # Transpose the batch (see https://stackoverflow.com/a/19343/3343043 for\n",
    "    # detailed explanation). This converts batch-array of Transitions\n",
    "    # to Transition of batch-arrays.\n",
    "    batch = Transition(*zip(*transitions))\n",
    "\n",
    "    # Compute a mask of non-final states and concatenate the batch elements\n",
    "    # (a final state would've been the one after which simulation ended)\n",
    "    non_final_mask = torch.tensor(tuple(map(lambda s: s is not None, batch.next_state)), dtype=torch.bool)\n",
    "    non_final_next_states = torch.cat([s for s in batch.next_state if s is not None])\n",
    "    state_batch = torch.cat(batch.state)\n",
    "    action_batch = torch.cat(batch.action)\n",
    "    reward_batch = torch.cat(batch.reward)\n",
    "\n",
    "    # Compute Q(s_t, a) - the model computes Q(s_t), then we select the\n",
    "    # columns of actions taken. These are the actions which would've been taken\n",
    "    # for each batch state according to the model\n",
    "    state_action_values = model(state_batch).gather(1, action_batch)\n",
    "\n",
    "    # Compute V(s_{t+1}) for all next states.\n",
    "    # Expected values of actions for non_final_next_states are computed based\n",
    "    # on the \"older\" target_net; selecting their best reward with max(1)[0].\n",
    "    # This is merged based on the mask, such that we'll have either the expected\n",
    "    # state value or 0 in case the state was final.\n",
    "    next_state_values = torch.zeros(BATCH_SIZE)\n",
    "    next_state_values[non_final_mask] = model(non_final_next_states).max(1)[0].detach()\n",
    "    # Compute the expected Q values\n",
    "    expected_state_action_values = (next_state_values * GAMMA) + reward_batch\n",
    "\n",
    "    # Compute Huber loss\n",
    "    criterion = nn.SmoothL1Loss()\n",
    "    loss = criterion(state_action_values, expected_state_action_values.unsqueeze(1))\n",
    "\n",
    "    # Optimize the model\n",
    "    optimizer.zero_grad()\n",
    "    loss.backward()\n",
    "    for param in model.parameters():\n",
    "        param.grad.data.clamp_(-1, 1)\n",
    "    optimizer.step()\n"
   ]
  },
  {
   "cell_type": "code",
   "execution_count": 87,
   "id": "d0e93680-2758-4d92-8464-eb4ff752beed",
   "metadata": {},
   "outputs": [
    {
     "name": "stdout",
     "output_type": "stream",
     "text": [
      "tensor([[5]])\n"
     ]
    },
    {
     "ename": "TypeError",
     "evalue": "expected Tensor as element 2 in argument 0, but got int",
     "output_type": "error",
     "traceback": [
      "\u001b[0;31m---------------------------------------------------------------------------\u001b[0m",
      "\u001b[0;31mTypeError\u001b[0m                                 Traceback (most recent call last)",
      "Input \u001b[0;32mIn [87]\u001b[0m, in \u001b[0;36m<cell line: 2>\u001b[0;34m()\u001b[0m\n\u001b[1;32m     26\u001b[0m state \u001b[38;5;241m=\u001b[39m next_state\n\u001b[1;32m     28\u001b[0m \u001b[38;5;66;03m# Perform one step of the optimization (on the policy network)\u001b[39;00m\n\u001b[0;32m---> 29\u001b[0m \u001b[43moptimize_model\u001b[49m\u001b[43m(\u001b[49m\u001b[43m)\u001b[49m\n",
      "Input \u001b[0;32mIn [86]\u001b[0m, in \u001b[0;36moptimize_model\u001b[0;34m()\u001b[0m\n\u001b[1;32m     13\u001b[0m non_final_next_states \u001b[38;5;241m=\u001b[39m torch\u001b[38;5;241m.\u001b[39mcat([s \u001b[38;5;28;01mfor\u001b[39;00m s \u001b[38;5;129;01min\u001b[39;00m batch\u001b[38;5;241m.\u001b[39mnext_state \u001b[38;5;28;01mif\u001b[39;00m s \u001b[38;5;129;01mis\u001b[39;00m \u001b[38;5;129;01mnot\u001b[39;00m \u001b[38;5;28;01mNone\u001b[39;00m])\n\u001b[1;32m     14\u001b[0m state_batch \u001b[38;5;241m=\u001b[39m torch\u001b[38;5;241m.\u001b[39mcat(batch\u001b[38;5;241m.\u001b[39mstate)\n\u001b[0;32m---> 15\u001b[0m action_batch \u001b[38;5;241m=\u001b[39m \u001b[43mtorch\u001b[49m\u001b[38;5;241;43m.\u001b[39;49m\u001b[43mcat\u001b[49m\u001b[43m(\u001b[49m\u001b[43mbatch\u001b[49m\u001b[38;5;241;43m.\u001b[39;49m\u001b[43maction\u001b[49m\u001b[43m)\u001b[49m\n\u001b[1;32m     16\u001b[0m reward_batch \u001b[38;5;241m=\u001b[39m torch\u001b[38;5;241m.\u001b[39mcat(batch\u001b[38;5;241m.\u001b[39mreward)\n\u001b[1;32m     18\u001b[0m \u001b[38;5;66;03m# Compute Q(s_t, a) - the model computes Q(s_t), then we select the\u001b[39;00m\n\u001b[1;32m     19\u001b[0m \u001b[38;5;66;03m# columns of actions taken. These are the actions which would've been taken\u001b[39;00m\n\u001b[1;32m     20\u001b[0m \u001b[38;5;66;03m# for each batch state according to the model\u001b[39;00m\n",
      "\u001b[0;31mTypeError\u001b[0m: expected Tensor as element 2 in argument 0, but got int"
     ]
    }
   ],
   "source": [
    "num_episodes = 50\n",
    "for i_episode in range(num_episodes):\n",
    "    # Initialize the environment and state\n",
    "    state = create_board()\n",
    "    while state is not None:\n",
    "        # Select and perform an action\n",
    "        action = select_action(state)\n",
    "        raw_action = action.item()\n",
    "        if not is_valid_move(state, raw_action):\n",
    "            next_state = None\n",
    "            reward = -1\n",
    "            done = True\n",
    "        else:\n",
    "            next_state = make_move(state, raw_action)\n",
    "            reward = -get_score(next_state)\n",
    "            done = is_complete(next_state)\n",
    "        reward = torch.tensor([reward])\n",
    "        if done:\n",
    "            next_state = None\n",
    "\n",
    "        # Store the transition in memory\n",
    "        print(action)\n",
    "        memory.push(state, action, next_state, reward)\n",
    "\n",
    "        # Move to the next state\n",
    "        state = next_state\n",
    "\n",
    "        # Perform one step of the optimization (on the policy network)\n",
    "        optimize_model()\n"
   ]
  },
  {
   "cell_type": "code",
   "execution_count": null,
   "id": "6d9426e0-a4d2-4a47-a56b-e7f91fe7e17b",
   "metadata": {},
   "outputs": [],
   "source": []
  }
 ],
 "metadata": {
  "kernelspec": {
   "display_name": "azureml_py38_PT_and_TF",
   "language": "python",
   "name": "conda-env-azureml_py38_PT_and_TF-py"
  },
  "language_info": {
   "codemirror_mode": {
    "name": "ipython",
    "version": 3
   },
   "file_extension": ".py",
   "mimetype": "text/x-python",
   "name": "python",
   "nbconvert_exporter": "python",
   "pygments_lexer": "ipython3",
   "version": "3.8.5"
  }
 },
 "nbformat": 4,
 "nbformat_minor": 5
}
