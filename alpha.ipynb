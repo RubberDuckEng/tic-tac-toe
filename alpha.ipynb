{
  "cells": [
    {
      "cell_type": "code",
      "source": [
        "import random\n",
        "import torch\n",
        "import math\n",
        "from torch import nn\n",
        "from torch import optim"
      ],
      "outputs": [],
      "execution_count": 3,
      "metadata": {
        "gather": {
          "logged": 1655793159275
        }
      }
    },
    {
      "cell_type": "code",
      "source": [
        "WIDTH = 3\n",
        "HEIGHT = 3\n",
        "MOVE_COUNT = 9\n",
        "\n",
        "PLAYERS = {\n",
        "    -1: \"O\",\n",
        "    1: \"X\",\n",
        "}\n",
        "\n",
        "def get_move_coords(move_index):\n",
        "    return move_index % 3, move_index // 3\n",
        "\n",
        "class Board(object):\n",
        "    def __init__(self, pieces):\n",
        "        assert(pieces.size() == (HEIGHT, WIDTH))\n",
        "        self.pieces = pieces\n",
        "\n",
        "    @classmethod\n",
        "    def initial(cls):\n",
        "        return cls(torch.zeros(3, 3))\n",
        "\n",
        "    def is_legal_move(self, move_index):\n",
        "        x, y = get_move_coords(move_index)\n",
        "        return self.pieces[y][x] == 0\n",
        "    \n",
        "    def get_legal_moves(self):\n",
        "        return [index for index in range(MOVE_COUNT) if self.is_legal_move(index)]\n",
        "\n",
        "    def has_legal_moves(self):\n",
        "        return len(self.get_legal_moves()) > 0\n",
        "\n",
        "    def execute_move(self, player, move_index):\n",
        "        assert(player in PLAYERS.keys())\n",
        "        assert(self.is_legal_move(move_index))\n",
        "        x, y = get_move_coords(move_index)\n",
        "        self.pieces[y][x] = player\n",
        "\n",
        "    def has_won(self, player):\n",
        "        assert(player in PLAYERS.keys())\n",
        "        target = 3 * player\n",
        "        for x in range(3):\n",
        "            if torch.sum(self.pieces[:, x]) == target:\n",
        "                return True\n",
        "        for y in range(3):\n",
        "            if torch.sum(self.pieces[y, :]) == target:\n",
        "                return True\n",
        "        if sum([self.pieces[i, i].item() for i in range(3)]) == target:\n",
        "            return True\n",
        "        if sum([self.pieces[2 - i, i].item() for i in range(3)]) == target:\n",
        "            return True\n",
        "        return False\n",
        "\n",
        "\n",
        "\n",
        "def get_next_state(pieces, player, action):\n",
        "    board = Board(pieces.copy())\n",
        "    board.execute_move(player, action)\n",
        "    return board.pieces, -player"
      ],
      "outputs": [],
      "execution_count": 19,
      "metadata": {
        "jupyter": {
          "source_hidden": false,
          "outputs_hidden": false
        },
        "nteract": {
          "transient": {
            "deleting": false
          }
        },
        "gather": {
          "logged": 1655795135191
        }
      }
    },
    {
      "cell_type": "code",
      "source": [
        "import unittest\n",
        "\n",
        "class TestBoard(unittest.TestCase):\n",
        "    def test_legal_moves(self):\n",
        "        board = Board.initial()\n",
        "        self.assertTrue(board.has_legal_moves())\n",
        "        self.assertListEqual(list(range(MOVE_COUNT)), board.get_legal_moves())\n",
        "        self.assertFalse(board.has_won(1))\n",
        "        self.assertFalse(board.has_won(-1))\n",
        "\n",
        "    def test_execute_move(self):\n",
        "        board = Board.initial()\n",
        "        self.assertTrue(board.is_legal_move(1))\n",
        "        board.execute_move(1, 1)\n",
        "        self.assertFalse(board.is_legal_move(1))\n",
        "        self.assertEqual(MOVE_COUNT - 1, len(board.get_legal_moves()))\n",
        "\n",
        "    def test_has_won(self):\n",
        "        board = Board.initial()\n",
        "        board.execute_move(1, 0)\n",
        "        board.execute_move(1, 1)\n",
        "        self.assertFalse(board.has_won(1))\n",
        "        self.assertFalse(board.has_won(-1))\n",
        "        board.execute_move(1, 2)\n",
        "        self.assertTrue(board.has_won(1))\n",
        "        self.assertFalse(board.has_won(-1))\n",
        "\n",
        "    def test_has_won_diagonal(self):\n",
        "        board = Board.initial()\n",
        "        board.execute_move(-1, 0)\n",
        "        board.execute_move(-1, 4)\n",
        "        self.assertFalse(board.has_won(1))\n",
        "        self.assertFalse(board.has_won(-1))\n",
        "        board.execute_move(-1, 8)\n",
        "        self.assertFalse(board.has_won(1))\n",
        "        self.assertTrue(board.has_won(-1))\n",
        "\n",
        "\n",
        "unittest.main(argv=[''], verbosity=2, exit=False)"
      ],
      "outputs": [
        {
          "output_type": "stream",
          "name": "stderr",
          "text": "test_execute_move (__main__.TestBoard) ... ok\ntest_has_won (__main__.TestBoard) ... ok\ntest_has_won_diagonal (__main__.TestBoard) ... ok\ntest_legal_moves (__main__.TestBoard) ... ok\n\n----------------------------------------------------------------------\nRan 4 tests in 0.009s\n\nOK\n"
        },
        {
          "output_type": "execute_result",
          "execution_count": 22,
          "data": {
            "text/plain": "<unittest.main.TestProgram at 0x7fbb6e6eac10>"
          },
          "metadata": {}
        }
      ],
      "execution_count": 22,
      "metadata": {
        "jupyter": {
          "source_hidden": false,
          "outputs_hidden": false
        },
        "nteract": {
          "transient": {
            "deleting": false
          }
        },
        "gather": {
          "logged": 1655795236144
        }
      }
    }
  ],
  "metadata": {
    "kernelspec": {
      "name": "python38-azureml",
      "language": "python",
      "display_name": "Python 3.8 - AzureML"
    },
    "language_info": {
      "name": "python",
      "version": "3.8.5",
      "mimetype": "text/x-python",
      "codemirror_mode": {
        "name": "ipython",
        "version": 3
      },
      "pygments_lexer": "ipython3",
      "nbconvert_exporter": "python",
      "file_extension": ".py"
    },
    "kernel_info": {
      "name": "python38-azureml"
    },
    "microsoft": {
      "host": {
        "AzureML": {
          "notebookHasBeenCompleted": true
        }
      }
    },
    "nteract": {
      "version": "nteract-front-end@1.0.0"
    }
  },
  "nbformat": 4,
  "nbformat_minor": 2
}